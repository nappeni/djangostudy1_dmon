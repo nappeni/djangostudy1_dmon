{
 "cells": [
  {
   "cell_type": "code",
   "execution_count": 1,
   "id": "4b2c4200",
   "metadata": {},
   "outputs": [],
   "source": [
    "import os\n",
    "os.environ['DJANGO_SETTINGS_MODULE'] = 'nappeipy.settings'\n",
    "os.environ[\"DJANGO_ALLOW_ASYNC_UNSAFE\"] = \"true\"\n",
    "\n",
    "import django\n",
    "django.setup()"
   ]
  },
  {
   "cell_type": "code",
   "execution_count": 2,
   "id": "a973f78b",
   "metadata": {},
   "outputs": [],
   "source": [
    "from instagram.models import Post"
   ]
  },
  {
   "cell_type": "code",
   "execution_count": 6,
   "id": "3fccebee",
   "metadata": {},
   "outputs": [],
   "source": [
    "post_list = Post.objects.all()"
   ]
  },
  {
   "cell_type": "code",
   "execution_count": 11,
   "id": "fd3f4beb",
   "metadata": {},
   "outputs": [],
   "source": [
    "import random"
   ]
  },
  {
   "cell_type": "code",
   "execution_count": 12,
   "id": "77f45cbd",
   "metadata": {},
   "outputs": [],
   "source": [
    "for post in post_list:\n",
    "   ...:     year = random.choice(range(1990,2020))\n",
    "   ...:     month = random.choice(range(1,12))\n",
    "   ...:     post.created_at = post.created_at.replace(year=year, month=month)\n",
    "   ...:     post.save()"
   ]
  },
  {
   "cell_type": "code",
   "execution_count": 13,
   "id": "40acf26c",
   "metadata": {},
   "outputs": [
    {
     "data": {
      "text/plain": [
       "<QuerySet [<Post: 세번째>, <Post: 세번째>, <Post: 세번째>, <Post: 세번째>, <Post: 네번째>, <Post: 네번째>, <Post: 네번째>, <Post: 세번째>, <Post: 네번째>, <Post: 첫번째>, <Post: 세번째>, <Post: 세번째>, <Post: 첫번째>, <Post: 세번째>, <Post: 첫번째>, <Post: 두번째>, <Post: 네번째>, <Post: 네번째>, <Post: 두번째>, <Post: 첫번째>, '...(remaining elements truncated)...']>"
      ]
     },
     "execution_count": 13,
     "metadata": {},
     "output_type": "execute_result"
    }
   ],
   "source": [
    "Post.objects.all()"
   ]
  },
  {
   "cell_type": "code",
   "execution_count": 14,
   "id": "7cbfdaf0",
   "metadata": {},
   "outputs": [
    {
     "data": {
      "text/plain": [
       "<QuerySet [2006, 2007, 2019, 1992, 1993, 2013, 1995, 2004, 2004, 2019, 1996, 2010, 2014, 1995, 2016, 2007, 2008, 2009, 2013, 2012, '...(remaining elements truncated)...']>"
      ]
     },
     "execution_count": 14,
     "metadata": {},
     "output_type": "execute_result"
    }
   ],
   "source": [
    "Post.objects.all().values_list('created_at__year',flat=True)"
   ]
  },
  {
   "cell_type": "code",
   "execution_count": 16,
   "id": "ad91c7cf",
   "metadata": {},
   "outputs": [],
   "source": [
    "year_list = _"
   ]
  },
  {
   "cell_type": "code",
   "execution_count": null,
   "id": "7fe406f5",
   "metadata": {},
   "outputs": [],
   "source": [
    "# 직전에 실행한 결과는 '_' 로 참조할 수 있다."
   ]
  },
  {
   "cell_type": "code",
   "execution_count": 17,
   "id": "5aec23a0",
   "metadata": {},
   "outputs": [
    {
     "data": {
      "text/plain": [
       "{1990,\n",
       " 1991,\n",
       " 1992,\n",
       " 1993,\n",
       " 1994,\n",
       " 1995,\n",
       " 1996,\n",
       " 1997,\n",
       " 1998,\n",
       " 1999,\n",
       " 2000,\n",
       " 2001,\n",
       " 2002,\n",
       " 2003,\n",
       " 2004,\n",
       " 2005,\n",
       " 2006,\n",
       " 2007,\n",
       " 2008,\n",
       " 2009,\n",
       " 2010,\n",
       " 2011,\n",
       " 2012,\n",
       " 2013,\n",
       " 2014,\n",
       " 2015,\n",
       " 2016,\n",
       " 2017,\n",
       " 2018,\n",
       " 2019}"
      ]
     },
     "execution_count": 17,
     "metadata": {},
     "output_type": "execute_result"
    }
   ],
   "source": [
    "set(year_list)"
   ]
  },
  {
   "cell_type": "code",
   "execution_count": null,
   "id": "64904b4b",
   "metadata": {},
   "outputs": [],
   "source": []
  }
 ],
 "metadata": {
  "kernelspec": {
   "display_name": "Python 3 (ipykernel)",
   "language": "python",
   "name": "python3"
  },
  "language_info": {
   "codemirror_mode": {
    "name": "ipython",
    "version": 3
   },
   "file_extension": ".py",
   "mimetype": "text/x-python",
   "name": "python",
   "nbconvert_exporter": "python",
   "pygments_lexer": "ipython3",
   "version": "3.9.16"
  }
 },
 "nbformat": 4,
 "nbformat_minor": 5
}
