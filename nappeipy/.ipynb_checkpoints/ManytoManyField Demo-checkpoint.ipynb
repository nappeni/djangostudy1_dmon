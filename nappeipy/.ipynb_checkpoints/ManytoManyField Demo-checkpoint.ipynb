{
 "cells": [
  {
   "cell_type": "code",
   "execution_count": 1,
   "id": "d09a5def",
   "metadata": {},
   "outputs": [],
   "source": [
    "import os\n",
    "os.environ['DJANGO_SETTINGS_MODULE'] = 'nappeipy.settings'\n",
    "os.environ[\"DJANGO_ALLOW_ASYNC_UNSAFE\"] = \"true\"\n",
    "\n",
    "import django\n",
    "django.setup()"
   ]
  },
  {
   "cell_type": "code",
   "execution_count": 2,
   "id": "d57bba2d",
   "metadata": {},
   "outputs": [],
   "source": [
    "from instagram.models import Post,Tag"
   ]
  },
  {
   "cell_type": "code",
   "execution_count": 4,
   "id": "a72efe46",
   "metadata": {},
   "outputs": [
    {
     "data": {
      "text/plain": [
       "<Post: 네번째>"
      ]
     },
     "execution_count": 4,
     "metadata": {},
     "output_type": "execute_result"
    }
   ],
   "source": [
    "post = Post.objects.first()\n",
    "post"
   ]
  },
  {
   "cell_type": "code",
   "execution_count": 5,
   "id": "c4b17104",
   "metadata": {},
   "outputs": [
    {
     "data": {
      "text/plain": [
       "<QuerySet [<Tag: 파이썬>, <Tag: python>]>"
      ]
     },
     "execution_count": 5,
     "metadata": {},
     "output_type": "execute_result"
    }
   ],
   "source": [
    "post.tag_set.all()"
   ]
  },
  {
   "cell_type": "code",
   "execution_count": 7,
   "id": "c32eb6b0",
   "metadata": {},
   "outputs": [
    {
     "data": {
      "text/plain": [
       "<Tag: 파이썬>"
      ]
     },
     "execution_count": 7,
     "metadata": {},
     "output_type": "execute_result"
    }
   ],
   "source": [
    "tag = Tag.objects.first()\n",
    "tag"
   ]
  },
  {
   "cell_type": "code",
   "execution_count": 8,
   "id": "70607d27",
   "metadata": {},
   "outputs": [
    {
     "data": {
      "text/plain": [
       "<QuerySet [<Post: 네번째>]>"
      ]
     },
     "execution_count": 8,
     "metadata": {},
     "output_type": "execute_result"
    }
   ],
   "source": [
    "tag.post_set.all()"
   ]
  },
  {
   "cell_type": "code",
   "execution_count": null,
   "id": "4bceb5cf",
   "metadata": {},
   "outputs": [],
   "source": []
  },
  {
   "cell_type": "code",
   "execution_count": 10,
   "id": "56fbcb1f",
   "metadata": {},
   "outputs": [
    {
     "data": {
      "text/plain": [
       "<Tag: jango>"
      ]
     },
     "execution_count": 10,
     "metadata": {},
     "output_type": "execute_result"
    }
   ],
   "source": [
    "Tag.objects.create(name='jango')"
   ]
  },
  {
   "cell_type": "code",
   "execution_count": 11,
   "id": "2e2eda2b",
   "metadata": {},
   "outputs": [
    {
     "data": {
      "text/plain": [
       "<Tag: 장고>"
      ]
     },
     "execution_count": 11,
     "metadata": {},
     "output_type": "execute_result"
    }
   ],
   "source": [
    "Tag.objects.create(name='장고')"
   ]
  },
  {
   "cell_type": "code",
   "execution_count": 13,
   "id": "f899c2ea",
   "metadata": {},
   "outputs": [
    {
     "data": {
      "text/plain": [
       "<QuerySet [<Tag: 파이썬>, <Tag: python>, <Tag: jango>, <Tag: 장고>]>"
      ]
     },
     "execution_count": 13,
     "metadata": {},
     "output_type": "execute_result"
    }
   ],
   "source": [
    "Tag.objects.all()"
   ]
  },
  {
   "cell_type": "code",
   "execution_count": null,
   "id": "55a871ca",
   "metadata": {},
   "outputs": [],
   "source": []
  },
  {
   "cell_type": "code",
   "execution_count": 24,
   "id": "8ce8035e",
   "metadata": {},
   "outputs": [],
   "source": [
    "tag = Tag.objects.get(name='장고')\n",
    "post.tag_set.add(tag)"
   ]
  },
  {
   "cell_type": "code",
   "execution_count": 25,
   "id": "13b09e0d",
   "metadata": {},
   "outputs": [
    {
     "data": {
      "text/plain": [
       "<QuerySet [<Tag: 파이썬>, <Tag: python>, <Tag: 장고>]>"
      ]
     },
     "execution_count": 25,
     "metadata": {},
     "output_type": "execute_result"
    }
   ],
   "source": [
    "post.tag_set.all()"
   ]
  },
  {
   "cell_type": "code",
   "execution_count": 26,
   "id": "2b3db87f",
   "metadata": {},
   "outputs": [],
   "source": [
    "post.tag_set.remove(tag)"
   ]
  },
  {
   "cell_type": "code",
   "execution_count": 27,
   "id": "8be3de8b",
   "metadata": {},
   "outputs": [
    {
     "data": {
      "text/plain": [
       "<QuerySet [<Tag: 파이썬>, <Tag: python>]>"
      ]
     },
     "execution_count": 27,
     "metadata": {},
     "output_type": "execute_result"
    }
   ],
   "source": [
    "post.tag_set.all()"
   ]
  },
  {
   "cell_type": "code",
   "execution_count": 28,
   "id": "dcec7956",
   "metadata": {},
   "outputs": [],
   "source": [
    "tag_qs = Tag.objects.all()\n",
    "post.tag_set.add(*tag_qs) # unpack"
   ]
  },
  {
   "cell_type": "code",
   "execution_count": 29,
   "id": "45854555",
   "metadata": {},
   "outputs": [
    {
     "data": {
      "text/plain": [
       "<QuerySet [<Tag: 파이썬>, <Tag: python>, <Tag: jango>, <Tag: 장고>]>"
      ]
     },
     "execution_count": 29,
     "metadata": {},
     "output_type": "execute_result"
    }
   ],
   "source": [
    "post.tag_set.all()"
   ]
  },
  {
   "cell_type": "code",
   "execution_count": null,
   "id": "1430955e",
   "metadata": {},
   "outputs": [],
   "source": []
  }
 ],
 "metadata": {
  "kernelspec": {
   "display_name": "Python 3 (ipykernel)",
   "language": "python",
   "name": "python3"
  },
  "language_info": {
   "codemirror_mode": {
    "name": "ipython",
    "version": 3
   },
   "file_extension": ".py",
   "mimetype": "text/x-python",
   "name": "python",
   "nbconvert_exporter": "python",
   "pygments_lexer": "ipython3",
   "version": "3.9.16"
  }
 },
 "nbformat": 4,
 "nbformat_minor": 5
}
