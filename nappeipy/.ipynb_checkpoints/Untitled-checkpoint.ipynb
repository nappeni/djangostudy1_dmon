{
 "cells": [
  {
   "cell_type": "code",
   "execution_count": 7,
   "id": "8a019052",
   "metadata": {},
   "outputs": [],
   "source": [
    "import os\n",
    "os.environ['DJANGO_SETTINGS_MODULE'] = 'nappeipy.settings'\n",
    "os.environ[\"DJANGO_ALLOW_ASYNC_UNSAFE\"] = \"true\"\n",
    "\n",
    "import django\n",
    "django.setup()"
   ]
  },
  {
   "cell_type": "code",
   "execution_count": null,
   "id": "a8699acb",
   "metadata": {},
   "outputs": [],
   "source": []
  },
  {
   "cell_type": "code",
   "execution_count": 8,
   "id": "bd6223bf",
   "metadata": {},
   "outputs": [],
   "source": [
    "from instagram.models import Post"
   ]
  },
  {
   "cell_type": "code",
   "execution_count": 42,
   "id": "8b8f47a3",
   "metadata": {},
   "outputs": [],
   "source": [
    "#qs = Post.objects.all().order_by('-id')\n",
    "#print(type(qs))\n",
    "#print(qs.query)\n",
    "#qs"
   ]
  },
  {
   "cell_type": "code",
   "execution_count": 40,
   "id": "e1ee5c1e",
   "metadata": {},
   "outputs": [],
   "source": [
    "#qs = Post.objects.all().order_by('-id')[:2]\n",
    "#print(type(qs))\n",
    "#print(qs.query)\n",
    "#qs"
   ]
  },
  {
   "cell_type": "code",
   "execution_count": null,
   "id": "a8700966",
   "metadata": {},
   "outputs": [],
   "source": []
  },
  {
   "cell_type": "code",
   "execution_count": 49,
   "id": "ef8872d1",
   "metadata": {},
   "outputs": [],
   "source": [
    "#for post in qs:\n",
    "#    print(\"id : {id}, message : {message} {created_at}\".format(**post.__dict__))"
   ]
  },
  {
   "cell_type": "code",
   "execution_count": null,
   "id": "53f81a99",
   "metadata": {},
   "outputs": [],
   "source": []
  },
  {
   "cell_type": "code",
   "execution_count": 59,
   "id": "bae3f21f",
   "metadata": {},
   "outputs": [
    {
     "data": {
      "text/plain": [
       "<QuerySet [<Post: 첫번째>]>"
      ]
     },
     "execution_count": 59,
     "metadata": {},
     "output_type": "execute_result"
    }
   ],
   "source": [
    "from instagram.models import Post\n",
    "query = '첫번째'\n",
    "qq = Post.objects.all()\\\n",
    ".filter(message__icontains=query)\\\n",
    ".order_by('-id')\n",
    "qq"
   ]
  },
  {
   "cell_type": "code",
   "execution_count": null,
   "id": "c2dda7e6",
   "metadata": {},
   "outputs": [],
   "source": []
  },
  {
   "cell_type": "code",
   "execution_count": null,
   "id": "a7b8a405",
   "metadata": {},
   "outputs": [],
   "source": []
  }
 ],
 "metadata": {
  "kernelspec": {
   "display_name": "Python 3 (ipykernel)",
   "language": "python",
   "name": "python3"
  },
  "language_info": {
   "codemirror_mode": {
    "name": "ipython",
    "version": 3
   },
   "file_extension": ".py",
   "mimetype": "text/x-python",
   "name": "python",
   "nbconvert_exporter": "python",
   "pygments_lexer": "ipython3",
   "version": "3.9.16"
  }
 },
 "nbformat": 4,
 "nbformat_minor": 5
}
