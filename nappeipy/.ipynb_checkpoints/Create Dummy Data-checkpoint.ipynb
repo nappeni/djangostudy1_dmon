{
 "cells": [
  {
   "cell_type": "code",
   "execution_count": null,
   "id": "501ecb22",
   "metadata": {},
   "outputs": [],
   "source": [
    "# Create Dummy Data (추천하지는 않음)"
   ]
  },
  {
   "cell_type": "code",
   "execution_count": 9,
   "id": "75fc9eab",
   "metadata": {},
   "outputs": [],
   "source": [
    "import os\n",
    "os.environ['DJANGO_SETTINGS_MODULE'] = 'nappeipy.settings'\n",
    "os.environ[\"DJANGO_ALLOW_ASYNC_UNSAFE\"] = \"true\"\n",
    "\n",
    "import django\n",
    "django.setup()"
   ]
  },
  {
   "cell_type": "code",
   "execution_count": null,
   "id": "556961ac",
   "metadata": {},
   "outputs": [],
   "source": []
  },
  {
   "cell_type": "code",
   "execution_count": 11,
   "id": "39d6f738",
   "metadata": {},
   "outputs": [],
   "source": [
    "from instagram.models import Post"
   ]
  },
  {
   "cell_type": "code",
   "execution_count": 12,
   "id": "e2a4d945",
   "metadata": {},
   "outputs": [
    {
     "data": {
      "text/plain": [
       "<Post: 네번째>"
      ]
     },
     "execution_count": 12,
     "metadata": {},
     "output_type": "execute_result"
    }
   ],
   "source": [
    "post = Post.objects.first()\n",
    "post"
   ]
  },
  {
   "cell_type": "code",
   "execution_count": 13,
   "id": "352e1ad1",
   "metadata": {},
   "outputs": [],
   "source": [
    "post.pk = None"
   ]
  },
  {
   "cell_type": "code",
   "execution_count": null,
   "id": "e5b3dc0b",
   "metadata": {},
   "outputs": [],
   "source": []
  },
  {
   "cell_type": "code",
   "execution_count": 14,
   "id": "6fe1bb55",
   "metadata": {},
   "outputs": [],
   "source": [
    "post_list = list(Post.objects.all())"
   ]
  },
  {
   "cell_type": "code",
   "execution_count": 15,
   "id": "0bc70437",
   "metadata": {},
   "outputs": [
    {
     "data": {
      "text/plain": [
       "<Post: 두번째>"
      ]
     },
     "execution_count": 15,
     "metadata": {},
     "output_type": "execute_result"
    }
   ],
   "source": [
    "import random\n",
    "random.choice(post_list)"
   ]
  },
  {
   "cell_type": "code",
   "execution_count": 16,
   "id": "cd1a3841",
   "metadata": {},
   "outputs": [],
   "source": [
    "for i in range(100):\n",
    "    post = random.choice(post_list)\n",
    "    post.pk = None\n",
    "    post.save()"
   ]
  },
  {
   "cell_type": "code",
   "execution_count": null,
   "id": "280bc414",
   "metadata": {},
   "outputs": [],
   "source": []
  }
 ],
 "metadata": {
  "kernelspec": {
   "display_name": "Python 3 (ipykernel)",
   "language": "python",
   "name": "python3"
  },
  "language_info": {
   "codemirror_mode": {
    "name": "ipython",
    "version": 3
   },
   "file_extension": ".py",
   "mimetype": "text/x-python",
   "name": "python",
   "nbconvert_exporter": "python",
   "pygments_lexer": "ipython3",
   "version": "3.9.16"
  }
 },
 "nbformat": 4,
 "nbformat_minor": 5
}
